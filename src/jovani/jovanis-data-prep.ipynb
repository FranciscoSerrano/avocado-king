{
 "metadata": {
  "language_info": {
   "codemirror_mode": {
    "name": "ipython",
    "version": 3
   },
   "file_extension": ".py",
   "mimetype": "text/x-python",
   "name": "python",
   "nbconvert_exporter": "python",
   "pygments_lexer": "ipython3",
   "version": "3.7.7-final"
  },
  "orig_nbformat": 2,
  "kernelspec": {
   "name": "python_defaultSpec_1597674591178",
   "display_name": "Python 3.7.7 64-bit ('base': conda)"
  }
 },
 "nbformat": 4,
 "nbformat_minor": 2,
 "cells": [
  {
   "cell_type": "code",
   "execution_count": null,
   "metadata": {},
   "outputs": [],
   "source": [
    "%config IPCompleter.greedy=True"
   ]
  },
  {
   "cell_type": "markdown",
   "metadata": {},
   "source": [
    "# Jovani's Analysis\n",
    "\n",
    "> In which cities can millenials have their avocado toast AND buy a home?"
   ]
  },
  {
   "cell_type": "markdown",
   "metadata": {},
   "source": [
    "My Plan ...\n",
    "\n",
    "I would first like to do a couple of things:\n",
    "\n",
    "- [ ] Checkout the data\n",
    "- [ ] Fix the data types of any of the columns\n",
    "- [ ] Create a new pickle file with the data I find important\n",
    "- [ ] ..."
   ]
  },
  {
   "cell_type": "code",
   "execution_count": 47,
   "metadata": {},
   "outputs": [],
   "source": [
    "# import all the Python libraries that I would relying for...\n",
    "import numpy as np\n",
    "import pandas as pd\n",
    "import os\n",
    "\n",
    "# File to Load (Remember to change the path if needed.)\n",
    "avocado_data_to_load = os.path.join(\"./data/raw\", \"avocado.csv\")"
   ]
  },
  {
   "cell_type": "code",
   "execution_count": 48,
   "metadata": {},
   "outputs": [
    {
     "output_type": "execute_result",
     "data": {
      "text/plain": "       Unnamed: 0        Date  AveragePrice  Total Volume     4046       4225  \\\n0               0  2015-12-27          1.33      64236.62  1036.74   54454.85   \n1               1  2015-12-20          1.35      54876.98   674.28   44638.81   \n2               2  2015-12-13          0.93     118220.22   794.70  109149.67   \n3               3  2015-12-06          1.08      78992.15  1132.00   71976.41   \n4               4  2015-11-29          1.28      51039.60   941.48   43838.39   \n...           ...         ...           ...           ...      ...        ...   \n18244           7  2018-02-04          1.63      17074.83  2046.96    1529.20   \n18245           8  2018-01-28          1.71      13888.04  1191.70    3431.50   \n18246           9  2018-01-21          1.87      13766.76  1191.92    2452.79   \n18247          10  2018-01-14          1.93      16205.22  1527.63    2981.04   \n18248          11  2018-01-07          1.62      17489.58  2894.77    2356.13   \n\n         4770  Total Bags  Small Bags  Large Bags  XLarge Bags          type  \\\n0       48.16     8696.87     8603.62       93.25          0.0  conventional   \n1       58.33     9505.56     9408.07       97.49          0.0  conventional   \n2      130.50     8145.35     8042.21      103.14          0.0  conventional   \n3       72.58     5811.16     5677.40      133.76          0.0  conventional   \n4       75.78     6183.95     5986.26      197.69          0.0  conventional   \n...       ...         ...         ...         ...          ...           ...   \n18244    0.00    13498.67    13066.82      431.85          0.0       organic   \n18245    0.00     9264.84     8940.04      324.80          0.0       organic   \n18246  727.94     9394.11     9351.80       42.31          0.0       organic   \n18247  727.01    10969.54    10919.54       50.00          0.0       organic   \n18248  224.53    12014.15    11988.14       26.01          0.0       organic   \n\n       year            region  \n0      2015            Albany  \n1      2015            Albany  \n2      2015            Albany  \n3      2015            Albany  \n4      2015            Albany  \n...     ...               ...  \n18244  2018  WestTexNewMexico  \n18245  2018  WestTexNewMexico  \n18246  2018  WestTexNewMexico  \n18247  2018  WestTexNewMexico  \n18248  2018  WestTexNewMexico  \n\n[18249 rows x 14 columns]",
      "text/html": "<div>\n<style scoped>\n    .dataframe tbody tr th:only-of-type {\n        vertical-align: middle;\n    }\n\n    .dataframe tbody tr th {\n        vertical-align: top;\n    }\n\n    .dataframe thead th {\n        text-align: right;\n    }\n</style>\n<table border=\"1\" class=\"dataframe\">\n  <thead>\n    <tr style=\"text-align: right;\">\n      <th></th>\n      <th>Unnamed: 0</th>\n      <th>Date</th>\n      <th>AveragePrice</th>\n      <th>Total Volume</th>\n      <th>4046</th>\n      <th>4225</th>\n      <th>4770</th>\n      <th>Total Bags</th>\n      <th>Small Bags</th>\n      <th>Large Bags</th>\n      <th>XLarge Bags</th>\n      <th>type</th>\n      <th>year</th>\n      <th>region</th>\n    </tr>\n  </thead>\n  <tbody>\n    <tr>\n      <th>0</th>\n      <td>0</td>\n      <td>2015-12-27</td>\n      <td>1.33</td>\n      <td>64236.62</td>\n      <td>1036.74</td>\n      <td>54454.85</td>\n      <td>48.16</td>\n      <td>8696.87</td>\n      <td>8603.62</td>\n      <td>93.25</td>\n      <td>0.0</td>\n      <td>conventional</td>\n      <td>2015</td>\n      <td>Albany</td>\n    </tr>\n    <tr>\n      <th>1</th>\n      <td>1</td>\n      <td>2015-12-20</td>\n      <td>1.35</td>\n      <td>54876.98</td>\n      <td>674.28</td>\n      <td>44638.81</td>\n      <td>58.33</td>\n      <td>9505.56</td>\n      <td>9408.07</td>\n      <td>97.49</td>\n      <td>0.0</td>\n      <td>conventional</td>\n      <td>2015</td>\n      <td>Albany</td>\n    </tr>\n    <tr>\n      <th>2</th>\n      <td>2</td>\n      <td>2015-12-13</td>\n      <td>0.93</td>\n      <td>118220.22</td>\n      <td>794.70</td>\n      <td>109149.67</td>\n      <td>130.50</td>\n      <td>8145.35</td>\n      <td>8042.21</td>\n      <td>103.14</td>\n      <td>0.0</td>\n      <td>conventional</td>\n      <td>2015</td>\n      <td>Albany</td>\n    </tr>\n    <tr>\n      <th>3</th>\n      <td>3</td>\n      <td>2015-12-06</td>\n      <td>1.08</td>\n      <td>78992.15</td>\n      <td>1132.00</td>\n      <td>71976.41</td>\n      <td>72.58</td>\n      <td>5811.16</td>\n      <td>5677.40</td>\n      <td>133.76</td>\n      <td>0.0</td>\n      <td>conventional</td>\n      <td>2015</td>\n      <td>Albany</td>\n    </tr>\n    <tr>\n      <th>4</th>\n      <td>4</td>\n      <td>2015-11-29</td>\n      <td>1.28</td>\n      <td>51039.60</td>\n      <td>941.48</td>\n      <td>43838.39</td>\n      <td>75.78</td>\n      <td>6183.95</td>\n      <td>5986.26</td>\n      <td>197.69</td>\n      <td>0.0</td>\n      <td>conventional</td>\n      <td>2015</td>\n      <td>Albany</td>\n    </tr>\n    <tr>\n      <th>...</th>\n      <td>...</td>\n      <td>...</td>\n      <td>...</td>\n      <td>...</td>\n      <td>...</td>\n      <td>...</td>\n      <td>...</td>\n      <td>...</td>\n      <td>...</td>\n      <td>...</td>\n      <td>...</td>\n      <td>...</td>\n      <td>...</td>\n      <td>...</td>\n    </tr>\n    <tr>\n      <th>18244</th>\n      <td>7</td>\n      <td>2018-02-04</td>\n      <td>1.63</td>\n      <td>17074.83</td>\n      <td>2046.96</td>\n      <td>1529.20</td>\n      <td>0.00</td>\n      <td>13498.67</td>\n      <td>13066.82</td>\n      <td>431.85</td>\n      <td>0.0</td>\n      <td>organic</td>\n      <td>2018</td>\n      <td>WestTexNewMexico</td>\n    </tr>\n    <tr>\n      <th>18245</th>\n      <td>8</td>\n      <td>2018-01-28</td>\n      <td>1.71</td>\n      <td>13888.04</td>\n      <td>1191.70</td>\n      <td>3431.50</td>\n      <td>0.00</td>\n      <td>9264.84</td>\n      <td>8940.04</td>\n      <td>324.80</td>\n      <td>0.0</td>\n      <td>organic</td>\n      <td>2018</td>\n      <td>WestTexNewMexico</td>\n    </tr>\n    <tr>\n      <th>18246</th>\n      <td>9</td>\n      <td>2018-01-21</td>\n      <td>1.87</td>\n      <td>13766.76</td>\n      <td>1191.92</td>\n      <td>2452.79</td>\n      <td>727.94</td>\n      <td>9394.11</td>\n      <td>9351.80</td>\n      <td>42.31</td>\n      <td>0.0</td>\n      <td>organic</td>\n      <td>2018</td>\n      <td>WestTexNewMexico</td>\n    </tr>\n    <tr>\n      <th>18247</th>\n      <td>10</td>\n      <td>2018-01-14</td>\n      <td>1.93</td>\n      <td>16205.22</td>\n      <td>1527.63</td>\n      <td>2981.04</td>\n      <td>727.01</td>\n      <td>10969.54</td>\n      <td>10919.54</td>\n      <td>50.00</td>\n      <td>0.0</td>\n      <td>organic</td>\n      <td>2018</td>\n      <td>WestTexNewMexico</td>\n    </tr>\n    <tr>\n      <th>18248</th>\n      <td>11</td>\n      <td>2018-01-07</td>\n      <td>1.62</td>\n      <td>17489.58</td>\n      <td>2894.77</td>\n      <td>2356.13</td>\n      <td>224.53</td>\n      <td>12014.15</td>\n      <td>11988.14</td>\n      <td>26.01</td>\n      <td>0.0</td>\n      <td>organic</td>\n      <td>2018</td>\n      <td>WestTexNewMexico</td>\n    </tr>\n  </tbody>\n</table>\n<p>18249 rows × 14 columns</p>\n</div>"
     },
     "metadata": {},
     "execution_count": 48
    }
   ],
   "source": [
    "# Data Frame Creation\n",
    "# Knowing that the data is tabluar and is coming in a CSV file\n",
    "# I will automatically go into using a dataframe for EDA but first Cleaning.\n",
    "king_guacate_df = pd.read_csv(avocado_data_to_load)\n",
    "king_guacate_df"
   ]
  },
  {
   "cell_type": "markdown",
   "metadata": {},
   "source": [
    "I want to get a feel for the columns and data values that would pertain to the question we are trying to answer:\n",
    "\n",
    "In which cities (location) can millenials (demographics) have their avocado (product) toast AND buy a home (product)?\n",
    "\n",
    "So the union of:\n",
    "\n",
    "- Location having the\n",
    "    - Demogrpahics purchasing\n",
    "        - avocados\n",
    "        - homes\n",
    "\n",
    "Currently this datasets has Total Volume of avocados sold by date and location, by type, and at the average price."
   ]
  },
  {
   "cell_type": "code",
   "execution_count": 49,
   "metadata": {
    "tags": []
   },
   "outputs": [
    {
     "output_type": "stream",
     "name": "stdout",
     "text": "<bound method DataFrame.info of        Unnamed: 0        Date  AveragePrice  Total Volume     4046       4225  \\\n0               0  2015-12-27          1.33      64236.62  1036.74   54454.85   \n1               1  2015-12-20          1.35      54876.98   674.28   44638.81   \n2               2  2015-12-13          0.93     118220.22   794.70  109149.67   \n3               3  2015-12-06          1.08      78992.15  1132.00   71976.41   \n4               4  2015-11-29          1.28      51039.60   941.48   43838.39   \n...           ...         ...           ...           ...      ...        ...   \n18244           7  2018-02-04          1.63      17074.83  2046.96    1529.20   \n18245           8  2018-01-28          1.71      13888.04  1191.70    3431.50   \n18246           9  2018-01-21          1.87      13766.76  1191.92    2452.79   \n18247          10  2018-01-14          1.93      16205.22  1527.63    2981.04   \n18248          11  2018-01-07          1.62      17489.58  2894.77    2356.13   \n\n         4770  Total Bags  Small Bags  Large Bags  XLarge Bags          type  \\\n0       48.16     8696.87     8603.62       93.25          0.0  conventional   \n1       58.33     9505.56     9408.07       97.49          0.0  conventional   \n2      130.50     8145.35     8042.21      103.14          0.0  conventional   \n3       72.58     5811.16     5677.40      133.76          0.0  conventional   \n4       75.78     6183.95     5986.26      197.69          0.0  conventional   \n...       ...         ...         ...         ...          ...           ...   \n18244    0.00    13498.67    13066.82      431.85          0.0       organic   \n18245    0.00     9264.84     8940.04      324.80          0.0       organic   \n18246  727.94     9394.11     9351.80       42.31          0.0       organic   \n18247  727.01    10969.54    10919.54       50.00          0.0       organic   \n18248  224.53    12014.15    11988.14       26.01          0.0       organic   \n\n       year            region  \n0      2015            Albany  \n1      2015            Albany  \n2      2015            Albany  \n3      2015            Albany  \n4      2015            Albany  \n...     ...               ...  \n18244  2018  WestTexNewMexico  \n18245  2018  WestTexNewMexico  \n18246  2018  WestTexNewMexico  \n18247  2018  WestTexNewMexico  \n18248  2018  WestTexNewMexico  \n\n[18249 rows x 14 columns]>\nIndex(['Unnamed: 0', 'Date', 'AveragePrice', 'Total Volume', '4046', '4225',\n       '4770', 'Total Bags', 'Small Bags', 'Large Bags', 'XLarge Bags', 'type',\n       'year', 'region'],\n      dtype='object')\nRangeIndex(start=0, stop=18249, step=1)\n"
    }
   ],
   "source": [
    "# Viewing the Data\n",
    "# I want to inspect the columns and general type information of the DF\n",
    "print(king_guacate_df.info)\n",
    "print(king_guacate_df.columns)\n",
    "print(king_guacate_df.index)"
   ]
  },
  {
   "cell_type": "markdown",
   "metadata": {},
   "source": [
    "Steps to cleaning the data:\n",
    "\n",
    " - In a tabular data format (CSV, Excel, etc) - no blank columns, no blank rows, no merged cells (Excel), and the column data needs to be normalized (same data and correct data type).\n",
    " - Tabular data issues and data quality: noise, outliners, and duplicate data.\n",
    " - Get a sense of the distributions in the data - What is the distribution of \"'AveragePrice', 'Total Volume', '4046', '4225', '4770', 'Total Bags', 'Small Bags', 'Large Bags', 'XLarge Bags'\"\n",
    "    - BUT would we want to go through all that work or make assumptions up front cut out some of the columns and strictly focus on a select few."
   ]
  },
  {
   "cell_type": "code",
   "execution_count": 50,
   "metadata": {},
   "outputs": [
    {
     "output_type": "execute_result",
     "data": {
      "text/plain": "Unnamed: 0               int64\nDate            datetime64[ns]\nAveragePrice           float64\nTotal Volume           float64\n4046                   float64\n4225                   float64\n4770                   float64\nTotal Bags             float64\nSmall Bags             float64\nLarge Bags             float64\nXLarge Bags            float64\ntype                  category\nyear                  category\nregion                category\ndtype: object"
     },
     "metadata": {},
     "execution_count": 50
    }
   ],
   "source": [
    "# Let us start changing the data types of the columns\n",
    "# We want to make a couple of data type changes to the columns\n",
    "# Date to date\n",
    "# type, year, region to categories\n",
    "# AveragePrice, Total Volume, 4046, 4225, 4770, Total Bags, Sm, l, xl Bags keep to float64\n",
    "king_guacate_df[\"Date\"] = pd.to_datetime(king_guacate_df[\"Date\"])\n",
    "king_guacate_df[\"type\"] = king_guacate_df[\"type\"].astype(\"category\")\n",
    "king_guacate_df[\"year\"] = king_guacate_df[\"year\"].astype(\"category\")\n",
    "king_guacate_df[\"region\"] = king_guacate_df[\"region\"].astype(\"category\")\n",
    "king_guacate_df.dtypes"
   ]
  },
  {
   "cell_type": "code",
   "execution_count": 51,
   "metadata": {},
   "outputs": [
    {
     "output_type": "execute_result",
     "data": {
      "text/plain": "Unnamed: 0      1\nDate            1\nAveragePrice    1\nTotal Volume    1\n4046            1\n4225            1\n4770            1\nTotal Bags      1\nSmall Bags      1\nLarge Bags      1\nXLarge Bags     1\ntype            1\nyear            1\nregion          1\ndtype: int64"
     },
     "metadata": {},
     "execution_count": 51
    }
   ],
   "source": [
    "# Checking for missing Data\n",
    "# We can't make assumptions that the data given is the clean and sound.\n",
    "\n",
    "# pd.isna would return a new dataframe with False or True Values\n",
    "# And then method chain nunique method.\n",
    "pd.isna(king_guacate_df).nunique()"
   ]
  },
  {
   "cell_type": "markdown",
   "metadata": {},
   "source": [
    "Sweet!\n",
    "\n",
    "So far we have proper data types, no missing values.\n",
    "\n",
    "Next I would like to reorder the columns, reindex with the date, and drop some columns."
   ]
  },
  {
   "cell_type": "code",
   "execution_count": 52,
   "metadata": {},
   "outputs": [
    {
     "output_type": "execute_result",
     "data": {
      "text/plain": "Index(['Unnamed: 0', 'Date', 'AveragePrice', 'Total Volume', '4046', '4225',\n       '4770', 'Total Bags', 'Small Bags', 'Large Bags', 'XLarge Bags', 'type',\n       'year', 'region'],\n      dtype='object')"
     },
     "metadata": {},
     "execution_count": 52
    }
   ],
   "source": [
    "# Reorder the columns, reindex with the date, and drop some columns\n",
    "king_guacate_df.columns\n",
    "# I see the columns \"Unnamed\", \"Total Bags\", \"Small Bags\", \"Large Bags\", XLarge Bag\", are not needed to since we've mentioned that we just needed Total Volume of avocados sold by date and location, by type, and at the average price."
   ]
  },
  {
   "cell_type": "code",
   "execution_count": 53,
   "metadata": {},
   "outputs": [],
   "source": [
    "# First let us set the index of the data frame from a range of numbers to the Date column\n",
    "king_guacate_df = king_guacate_df.set_index(\"Date\")"
   ]
  },
  {
   "cell_type": "code",
   "execution_count": 54,
   "metadata": {},
   "outputs": [
    {
     "output_type": "execute_result",
     "data": {
      "text/plain": "['AveragePrice',\n 'Total Volume',\n '4046',\n '4225',\n '4770',\n 'type',\n 'year',\n 'region']"
     },
     "metadata": {},
     "execution_count": 54
    }
   ],
   "source": [
    "# Second let us drop the unwanted columns with using the .drop method\n",
    "king_guacate_df = king_guacate_df.drop([\"Unnamed: 0\", \"Total Bags\", \"Small Bags\", \"Large Bags\", \"XLarge Bags\"], axis=1)\n",
    "king_guacate_df.columns.to_list()"
   ]
  },
  {
   "cell_type": "code",
   "execution_count": 55,
   "metadata": {},
   "outputs": [
    {
     "output_type": "execute_result",
     "data": {
      "text/plain": "            year          type  AveragePrice  Total Volume     4046  \\\nDate                                                                  \n2015-12-27  2015  conventional          1.33      64236.62  1036.74   \n2015-12-20  2015  conventional          1.35      54876.98   674.28   \n2015-12-13  2015  conventional          0.93     118220.22   794.70   \n2015-12-06  2015  conventional          1.08      78992.15  1132.00   \n2015-11-29  2015  conventional          1.28      51039.60   941.48   \n...          ...           ...           ...           ...      ...   \n2018-02-04  2018       organic          1.63      17074.83  2046.96   \n2018-01-28  2018       organic          1.71      13888.04  1191.70   \n2018-01-21  2018       organic          1.87      13766.76  1191.92   \n2018-01-14  2018       organic          1.93      16205.22  1527.63   \n2018-01-07  2018       organic          1.62      17489.58  2894.77   \n\n                 4225    4770            region  \nDate                                             \n2015-12-27   54454.85   48.16            Albany  \n2015-12-20   44638.81   58.33            Albany  \n2015-12-13  109149.67  130.50            Albany  \n2015-12-06   71976.41   72.58            Albany  \n2015-11-29   43838.39   75.78            Albany  \n...               ...     ...               ...  \n2018-02-04    1529.20    0.00  WestTexNewMexico  \n2018-01-28    3431.50    0.00  WestTexNewMexico  \n2018-01-21    2452.79  727.94  WestTexNewMexico  \n2018-01-14    2981.04  727.01  WestTexNewMexico  \n2018-01-07    2356.13  224.53  WestTexNewMexico  \n\n[18249 rows x 8 columns]",
      "text/html": "<div>\n<style scoped>\n    .dataframe tbody tr th:only-of-type {\n        vertical-align: middle;\n    }\n\n    .dataframe tbody tr th {\n        vertical-align: top;\n    }\n\n    .dataframe thead th {\n        text-align: right;\n    }\n</style>\n<table border=\"1\" class=\"dataframe\">\n  <thead>\n    <tr style=\"text-align: right;\">\n      <th></th>\n      <th>year</th>\n      <th>type</th>\n      <th>AveragePrice</th>\n      <th>Total Volume</th>\n      <th>4046</th>\n      <th>4225</th>\n      <th>4770</th>\n      <th>region</th>\n    </tr>\n    <tr>\n      <th>Date</th>\n      <th></th>\n      <th></th>\n      <th></th>\n      <th></th>\n      <th></th>\n      <th></th>\n      <th></th>\n      <th></th>\n    </tr>\n  </thead>\n  <tbody>\n    <tr>\n      <th>2015-12-27</th>\n      <td>2015</td>\n      <td>conventional</td>\n      <td>1.33</td>\n      <td>64236.62</td>\n      <td>1036.74</td>\n      <td>54454.85</td>\n      <td>48.16</td>\n      <td>Albany</td>\n    </tr>\n    <tr>\n      <th>2015-12-20</th>\n      <td>2015</td>\n      <td>conventional</td>\n      <td>1.35</td>\n      <td>54876.98</td>\n      <td>674.28</td>\n      <td>44638.81</td>\n      <td>58.33</td>\n      <td>Albany</td>\n    </tr>\n    <tr>\n      <th>2015-12-13</th>\n      <td>2015</td>\n      <td>conventional</td>\n      <td>0.93</td>\n      <td>118220.22</td>\n      <td>794.70</td>\n      <td>109149.67</td>\n      <td>130.50</td>\n      <td>Albany</td>\n    </tr>\n    <tr>\n      <th>2015-12-06</th>\n      <td>2015</td>\n      <td>conventional</td>\n      <td>1.08</td>\n      <td>78992.15</td>\n      <td>1132.00</td>\n      <td>71976.41</td>\n      <td>72.58</td>\n      <td>Albany</td>\n    </tr>\n    <tr>\n      <th>2015-11-29</th>\n      <td>2015</td>\n      <td>conventional</td>\n      <td>1.28</td>\n      <td>51039.60</td>\n      <td>941.48</td>\n      <td>43838.39</td>\n      <td>75.78</td>\n      <td>Albany</td>\n    </tr>\n    <tr>\n      <th>...</th>\n      <td>...</td>\n      <td>...</td>\n      <td>...</td>\n      <td>...</td>\n      <td>...</td>\n      <td>...</td>\n      <td>...</td>\n      <td>...</td>\n    </tr>\n    <tr>\n      <th>2018-02-04</th>\n      <td>2018</td>\n      <td>organic</td>\n      <td>1.63</td>\n      <td>17074.83</td>\n      <td>2046.96</td>\n      <td>1529.20</td>\n      <td>0.00</td>\n      <td>WestTexNewMexico</td>\n    </tr>\n    <tr>\n      <th>2018-01-28</th>\n      <td>2018</td>\n      <td>organic</td>\n      <td>1.71</td>\n      <td>13888.04</td>\n      <td>1191.70</td>\n      <td>3431.50</td>\n      <td>0.00</td>\n      <td>WestTexNewMexico</td>\n    </tr>\n    <tr>\n      <th>2018-01-21</th>\n      <td>2018</td>\n      <td>organic</td>\n      <td>1.87</td>\n      <td>13766.76</td>\n      <td>1191.92</td>\n      <td>2452.79</td>\n      <td>727.94</td>\n      <td>WestTexNewMexico</td>\n    </tr>\n    <tr>\n      <th>2018-01-14</th>\n      <td>2018</td>\n      <td>organic</td>\n      <td>1.93</td>\n      <td>16205.22</td>\n      <td>1527.63</td>\n      <td>2981.04</td>\n      <td>727.01</td>\n      <td>WestTexNewMexico</td>\n    </tr>\n    <tr>\n      <th>2018-01-07</th>\n      <td>2018</td>\n      <td>organic</td>\n      <td>1.62</td>\n      <td>17489.58</td>\n      <td>2894.77</td>\n      <td>2356.13</td>\n      <td>224.53</td>\n      <td>WestTexNewMexico</td>\n    </tr>\n  </tbody>\n</table>\n<p>18249 rows × 8 columns</p>\n</div>"
     },
     "metadata": {},
     "execution_count": 55
    }
   ],
   "source": [
    "# Finally We would like to reorder the columns to anticipate appended columns.\n",
    "king_guacate_df = king_guacate_df[[\"year\", \"type\", \"AveragePrice\", \"Total Volume\", \"4046\", \"4225\", \"4770\", \"region\"]]\n",
    "king_guacate_df"
   ]
  },
  {
   "cell_type": "code",
   "execution_count": 56,
   "metadata": {},
   "outputs": [
    {
     "output_type": "execute_result",
     "data": {
      "text/plain": "            year          type  AveragePrice  Total Volume        4046  \\\nDate                                                                     \n2015-01-04  2015       organic          1.75      27365.89     9307.34   \n2015-01-04  2015       organic          1.49      17723.17     1189.35   \n2015-01-04  2015       organic          1.68       2896.72      161.68   \n2015-01-04  2015  conventional          1.52      54956.80     3013.04   \n2015-01-04  2015       organic          1.64       1505.12        1.27   \n...          ...           ...           ...           ...         ...   \n2018-03-25  2018  conventional          1.36     908202.13   142681.06   \n2018-03-25  2018  conventional          0.70    9010588.32  3999735.71   \n2018-03-25  2018       organic          1.42     163496.70    29253.30   \n2018-03-25  2018       organic          1.70     190257.38    29644.09   \n2018-03-25  2018  conventional          1.34    1774776.77    63905.98   \n\n                 4225       4770              region  \nDate                                                  \n2015-01-04    3844.81     615.28           Southeast  \n2015-01-04   15628.27       0.00             Chicago  \n2015-01-04     206.96       0.00  HarrisburgScranton  \n2015-01-04   35456.88    1561.70          Pittsburgh  \n2015-01-04    1129.50       0.00               Boise  \n...               ...        ...                 ...  \n2018-03-25  463136.28  174975.75             Chicago  \n2018-03-25  966589.50   30130.82        SouthCentral  \n2018-03-25    5080.04       0.00        SouthCentral  \n2018-03-25   70982.10       0.00          California  \n2018-03-25  908653.71     843.45             NewYork  \n\n[18249 rows x 8 columns]",
      "text/html": "<div>\n<style scoped>\n    .dataframe tbody tr th:only-of-type {\n        vertical-align: middle;\n    }\n\n    .dataframe tbody tr th {\n        vertical-align: top;\n    }\n\n    .dataframe thead th {\n        text-align: right;\n    }\n</style>\n<table border=\"1\" class=\"dataframe\">\n  <thead>\n    <tr style=\"text-align: right;\">\n      <th></th>\n      <th>year</th>\n      <th>type</th>\n      <th>AveragePrice</th>\n      <th>Total Volume</th>\n      <th>4046</th>\n      <th>4225</th>\n      <th>4770</th>\n      <th>region</th>\n    </tr>\n    <tr>\n      <th>Date</th>\n      <th></th>\n      <th></th>\n      <th></th>\n      <th></th>\n      <th></th>\n      <th></th>\n      <th></th>\n      <th></th>\n    </tr>\n  </thead>\n  <tbody>\n    <tr>\n      <th>2015-01-04</th>\n      <td>2015</td>\n      <td>organic</td>\n      <td>1.75</td>\n      <td>27365.89</td>\n      <td>9307.34</td>\n      <td>3844.81</td>\n      <td>615.28</td>\n      <td>Southeast</td>\n    </tr>\n    <tr>\n      <th>2015-01-04</th>\n      <td>2015</td>\n      <td>organic</td>\n      <td>1.49</td>\n      <td>17723.17</td>\n      <td>1189.35</td>\n      <td>15628.27</td>\n      <td>0.00</td>\n      <td>Chicago</td>\n    </tr>\n    <tr>\n      <th>2015-01-04</th>\n      <td>2015</td>\n      <td>organic</td>\n      <td>1.68</td>\n      <td>2896.72</td>\n      <td>161.68</td>\n      <td>206.96</td>\n      <td>0.00</td>\n      <td>HarrisburgScranton</td>\n    </tr>\n    <tr>\n      <th>2015-01-04</th>\n      <td>2015</td>\n      <td>conventional</td>\n      <td>1.52</td>\n      <td>54956.80</td>\n      <td>3013.04</td>\n      <td>35456.88</td>\n      <td>1561.70</td>\n      <td>Pittsburgh</td>\n    </tr>\n    <tr>\n      <th>2015-01-04</th>\n      <td>2015</td>\n      <td>organic</td>\n      <td>1.64</td>\n      <td>1505.12</td>\n      <td>1.27</td>\n      <td>1129.50</td>\n      <td>0.00</td>\n      <td>Boise</td>\n    </tr>\n    <tr>\n      <th>...</th>\n      <td>...</td>\n      <td>...</td>\n      <td>...</td>\n      <td>...</td>\n      <td>...</td>\n      <td>...</td>\n      <td>...</td>\n      <td>...</td>\n    </tr>\n    <tr>\n      <th>2018-03-25</th>\n      <td>2018</td>\n      <td>conventional</td>\n      <td>1.36</td>\n      <td>908202.13</td>\n      <td>142681.06</td>\n      <td>463136.28</td>\n      <td>174975.75</td>\n      <td>Chicago</td>\n    </tr>\n    <tr>\n      <th>2018-03-25</th>\n      <td>2018</td>\n      <td>conventional</td>\n      <td>0.70</td>\n      <td>9010588.32</td>\n      <td>3999735.71</td>\n      <td>966589.50</td>\n      <td>30130.82</td>\n      <td>SouthCentral</td>\n    </tr>\n    <tr>\n      <th>2018-03-25</th>\n      <td>2018</td>\n      <td>organic</td>\n      <td>1.42</td>\n      <td>163496.70</td>\n      <td>29253.30</td>\n      <td>5080.04</td>\n      <td>0.00</td>\n      <td>SouthCentral</td>\n    </tr>\n    <tr>\n      <th>2018-03-25</th>\n      <td>2018</td>\n      <td>organic</td>\n      <td>1.70</td>\n      <td>190257.38</td>\n      <td>29644.09</td>\n      <td>70982.10</td>\n      <td>0.00</td>\n      <td>California</td>\n    </tr>\n    <tr>\n      <th>2018-03-25</th>\n      <td>2018</td>\n      <td>conventional</td>\n      <td>1.34</td>\n      <td>1774776.77</td>\n      <td>63905.98</td>\n      <td>908653.71</td>\n      <td>843.45</td>\n      <td>NewYork</td>\n    </tr>\n  </tbody>\n</table>\n<p>18249 rows × 8 columns</p>\n</div>"
     },
     "metadata": {},
     "execution_count": 56
    }
   ],
   "source": [
    "# Oops forgot to sort the dates when we converted the column to an index.\n",
    "king_guacate_df.sort_index(inplace=True)\n",
    "king_guacate_df"
   ]
  },
  {
   "cell_type": "markdown",
   "metadata": {},
   "source": [
    "Looks good.\n",
    "\n",
    "Now I want to save our modified data frame to a pickle file in the interim folder."
   ]
  },
  {
   "cell_type": "code",
   "execution_count": 57,
   "metadata": {},
   "outputs": [],
   "source": [
    "# https://pandas.pydata.org/pandas-docs/stable/reference/api/pandas.DataFrame.to_pickle.html\n",
    "king_guacate_df.to_pickle(\"./data/interim/avocado.pkl\")"
   ]
  },
  {
   "cell_type": "code",
   "execution_count": null,
   "metadata": {},
   "outputs": [],
   "source": []
  }
 ]
}